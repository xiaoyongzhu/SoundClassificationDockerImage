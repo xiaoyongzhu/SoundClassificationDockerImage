{
 "cells": [
  {
   "cell_type": "markdown",
   "metadata": {
    "deletable": true,
    "editable": true
   },
   "source": [
    "### Test web application locally\n",
    "This notebook pulls some images and tests them against the local web app running inside the Docker container we made previously."
   ]
  },
  {
   "cell_type": "code",
   "execution_count": 35,
   "metadata": {
    "collapsed": false,
    "deletable": true,
    "editable": true
   },
   "outputs": [],
   "source": [
    "from testing_utilities import *\n",
    "import matplotlib.pyplot as plt\n",
    "import numpy as np\n",
    "import requests\n",
    "%matplotlib inline"
   ]
  },
  {
   "cell_type": "code",
   "execution_count": 36,
   "metadata": {
    "collapsed": true,
    "deletable": true,
    "editable": true
   },
   "outputs": [],
   "source": [
    "image_name='xiaoyzhu/soundclassification'"
   ]
  },
  {
   "cell_type": "markdown",
   "metadata": {
    "deletable": true,
    "editable": true
   },
   "source": [
    "Run the Docker conatainer in the background and open port 88"
   ]
  },
  {
   "cell_type": "code",
   "execution_count": 37,
   "metadata": {
    "collapsed": false,
    "deletable": true,
    "editable": true
   },
   "outputs": [
    {
     "name": "stdout",
     "output_type": "stream",
     "text": [
      "Starting job # 0 in a separate thread.\n"
     ]
    }
   ],
   "source": [
    "%%bash --bg -s \"$image_name\"\n",
    "\n",
    "docker run -d \\\n",
    "  -it \\\n",
    "  -v  /home/xiaoyzhu/notebooks/ACS-Deployment-Tutorial/flaskwebapp:/code \\\n",
    "  -p 88:88 \\\n",
    "  'xiaoyzhu/soundclassification'\n",
    "#docker run -p 88:88 'xiaoyzhu/soundclassification'\n",
    "#/home/xiaoyzhu/notebooks/ACS-Deployment-Tutorial/flaskwebapp"
   ]
  },
  {
   "cell_type": "code",
   "execution_count": 38,
   "metadata": {
    "collapsed": true,
    "deletable": true,
    "editable": true
   },
   "outputs": [],
   "source": [
    "#docker run   -it    -v  /home/xiaoyzhu/notebooks/ACS-Deployment-Tutorial/flaskwebapp:/code   -p 88:88   'xiaoyzhu/soundclassification'"
   ]
  },
  {
   "cell_type": "markdown",
   "metadata": {
    "deletable": true,
    "editable": true
   },
   "source": [
    "Wait a few seconds for the application to spin up and then check that everything works"
   ]
  },
  {
   "cell_type": "code",
   "execution_count": 42,
   "metadata": {
    "collapsed": false,
    "deletable": true,
    "editable": true
   },
   "outputs": [
    {
     "name": "stdout",
     "output_type": "stream",
     "text": [
      "1.2.1"
     ]
    }
   ],
   "source": [
    "!curl 'http://0.0.0.0:88/version'"
   ]
  },
  {
   "cell_type": "markdown",
   "metadata": {
    "deletable": true,
    "editable": true
   },
   "source": [
    "Pull an image of a plane to test our local web app with"
   ]
  },
  {
   "cell_type": "code",
   "execution_count": 43,
   "metadata": {
    "collapsed": true,
    "deletable": true,
    "editable": true
   },
   "outputs": [],
   "source": [
    "headers = {'content-type': 'application/json'}\n",
    "data = 'https://raw.githubusercontent.com/jaron/deep-listening/master/samples/us8k/dogbark.wav'\n",
    "json_data = json.dumps({'input':'{0}'.format(data)})\n"
   ]
  },
  {
   "cell_type": "code",
   "execution_count": 44,
   "metadata": {
    "collapsed": false,
    "deletable": true,
    "editable": true
   },
   "outputs": [
    {
     "name": "stdout",
     "output_type": "stream",
     "text": [
      "CPU times: user 0 ns, sys: 0 ns, total: 0 ns\n",
      "Wall time: 31.2 µs\n"
     ]
    },
    {
     "data": {
      "text/plain": [
       "{'result': ['dog bark', 'children playing', 'Computed in 429.17 ms']}"
      ]
     },
     "execution_count": 44,
     "metadata": {},
     "output_type": "execute_result"
    }
   ],
   "source": [
    "%time \n",
    "\n",
    "\n",
    "# POST some form-encoded data:\n",
    "post_response = requests.post(url='http://0.0.0.0:88/score', json=json_data)\n",
    "post_response.json()\n",
    "\n",
    "\n",
    "#r.json()"
   ]
  },
  {
   "cell_type": "markdown",
   "metadata": {
    "deletable": true,
    "editable": true
   },
   "source": [
    "Let's try a few more images"
   ]
  },
  {
   "cell_type": "code",
   "execution_count": 45,
   "metadata": {
    "collapsed": false,
    "deletable": true,
    "editable": true
   },
   "outputs": [
    {
     "name": "stdout",
     "output_type": "stream",
     "text": [
      "curl: (7) Failed to connect to 40.78.68.17 port 88: Connection timed out\r\n"
     ]
    }
   ],
   "source": [
    "!curl 'http://40.78.68.17:88/version'"
   ]
  },
  {
   "cell_type": "markdown",
   "metadata": {
    "deletable": true,
    "editable": true
   },
   "source": [
    "We can move onto [deploying our web application on ACS](DeployOnACS.ipynb)"
   ]
  }
 ],
 "metadata": {
  "anaconda-cloud": {},
  "kernelspec": {
   "display_name": "Python 3",
   "language": "python",
   "name": "python3"
  },
  "language_info": {
   "codemirror_mode": {
    "name": "ipython",
    "version": 3
   },
   "file_extension": ".py",
   "mimetype": "text/x-python",
   "name": "python",
   "nbconvert_exporter": "python",
   "pygments_lexer": "ipython3",
   "version": "3.5.2"
  }
 },
 "nbformat": 4,
 "nbformat_minor": 1
}
